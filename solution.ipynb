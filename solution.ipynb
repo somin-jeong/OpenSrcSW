{
 "cells": [
  {
   "cell_type": "code",
   "execution_count": 10,
   "id": "abea62a6",
   "metadata": {},
   "outputs": [],
   "source": [
    "class Point:\n",
    "    def __init__(self, c, d):\n",
    "        num1 = c\n",
    "        num2 = d\n",
    "    def show(self):\n",
    "        print(\"({0:d},{1:d})\".format(num1, num2))\n",
    "    \n"
   ]
  },
  {
   "cell_type": "code",
   "execution_count": 40,
   "id": "1d97d250",
   "metadata": {},
   "outputs": [
    {
     "name": "stdout",
     "output_type": "stream",
     "text": [
      "Max Week =  05/14 ~ 05/21\n"
     ]
    }
   ],
   "source": [
    "import csv\n",
    "f = open('C:\\seoul.csv')\n",
    "data = csv.reader(f)\n",
    "header = next(data)\n",
    "max_temp = 999\n",
    "max_date = ''\n",
    "temp = 0\n",
    "count = 0\n",
    "for row in data:\n",
    "    if row[-1] == '':\n",
    "        row[-1] = 999\n",
    "    if row[-2] == '':\n",
    "        row[-2] = 999\n",
    "    row[-1] = float(row[-1])\n",
    "    row[-2] = float(row[-2])\n",
    "    \n",
    "    \n",
    "    if count == 6:\n",
    "        if max_temp > temp:\n",
    "            max_date = row[0]\n",
    "            max_temp = temp\n",
    "\n",
    "        count = 0\n",
    "        temp = 0\n",
    "    else:\n",
    "        temp += row[-1] - row[-2]\n",
    "        count = count + 1\n",
    "   \n",
    "f.close()\n",
    "\n",
    "\n",
    "str = '{0:s}/{1:s}'.format(max_date.split('-')[1],max_date.split('-')[2])\n",
    "i = int(max_date.split('-')[2]) - 7\n",
    "str2 = '{0:s}/{1:d}'.format(max_date.split('-')[1], i)\n",
    "print('Max Week = ', str2, '~', str)\n",
    "\n"
   ]
  },
  {
   "cell_type": "code",
   "execution_count": 34,
   "id": "c7c307e1",
   "metadata": {},
   "outputs": [
    {
     "name": "stdout",
     "output_type": "stream",
     "text": [
      "[[1 1 0 1 0 1]\n",
      " [1 1 1 0 1 0]\n",
      " [1 1 0 1 0 0]]\n",
      "[1 1 0 0 1 0]\n",
      "[2 3 2]\n"
     ]
    }
   ],
   "source": [
    "import matplotlib.pyplot as plt\n",
    "import numpy as np\n",
    "a = np.array({1,1,0,1,0,1,1,1,1,0,1,0,1,1,0,1,0,0})\n",
    "docs = np.array([1,1,0,1,0,1,1,1,1,0,1,0,1,1,0,1,0,0]).reshape(3,6)\n",
    "print(docs)\n",
    "\n",
    "query = np.array([1,1,0,0,1,0,])\n",
    "print(query)\n",
    "\n",
    "c = np.dot(query,docs.T)\n",
    "\n"
   ]
  },
  {
   "cell_type": "code",
   "execution_count": null,
   "id": "66a80991",
   "metadata": {},
   "outputs": [],
   "source": []
  }
 ],
 "metadata": {
  "kernelspec": {
   "display_name": "Python 3",
   "language": "python",
   "name": "python3"
  },
  "language_info": {
   "codemirror_mode": {
    "name": "ipython",
    "version": 3
   },
   "file_extension": ".py",
   "mimetype": "text/x-python",
   "name": "python",
   "nbconvert_exporter": "python",
   "pygments_lexer": "ipython3",
   "version": "3.8.8"
  }
 },
 "nbformat": 4,
 "nbformat_minor": 5
}
