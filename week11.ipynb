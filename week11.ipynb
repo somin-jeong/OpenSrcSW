{
 "cells": [
  {
   "cell_type": "code",
   "execution_count": 9,
   "id": "ef3c7aaf",
   "metadata": {},
   "outputs": [],
   "source": [
    "import sys\n",
    "\n",
    "fr = open(sys.argv[1], 'r')\n",
    "data = fr.read()\n",
    "fr.close()\n",
    "fw = open(sys.argv[2], 'w')\n",
    "fw.write(data)\n",
    "fw.close()\n",
    "    \n"
   ]
  },
  {
   "cell_type": "code",
   "execution_count": 6,
   "id": "e25b2bb2",
   "metadata": {},
   "outputs": [
    {
     "name": "stdout",
     "output_type": "stream",
     "text": [
      "num of line :  5\n",
      "num of word :  13\n"
     ]
    }
   ],
   "source": [
    "import sys\n",
    "\n",
    "f = open(sys.argv[1], 'r')\n",
    "lines = f.readlines()\n",
    "wordnum = 0\n",
    "for i in lines:\n",
    "    words = i.split()\n",
    "    wordnum = wordnum + len(words)\n",
    "        \n",
    "print(\"num of line : \", len(lines))\n",
    "print(\"num of word : \", wordnum)\n",
    "f.close()\n",
    "    "
   ]
  },
  {
   "cell_type": "code",
   "execution_count": 18,
   "id": "415284ad",
   "metadata": {},
   "outputs": [
    {
     "name": "stdout",
     "output_type": "stream",
     "text": [
      "importing Jupyter notebook from class_calc.ipynb\n",
      "3 + 4 = 7입니다.\n",
      "5 - 1 = 4입니다.\n",
      "2 * 3 = 6입니다.\n",
      "3 / 2 = 1.500000입니다.\n"
     ]
    }
   ],
   "source": [
    "import import_ipynb\n",
    "from class_calc import Calc\n",
    "c = Calc()\n",
    "c.sum(3,4)\n",
    "c.sub(5,1)\n",
    "c.mul(2,3)\n",
    "c.div(3,2)"
   ]
  },
  {
   "cell_type": "code",
   "execution_count": 20,
   "id": "b498c7bf",
   "metadata": {},
   "outputs": [
    {
     "name": "stdout",
     "output_type": "stream",
     "text": [
      "계산식 입력 : 1 + 2 - 3 * 4 + 5\n",
      "계산식 출력 :  1+2-3*4+5= -4\n"
     ]
    }
   ],
   "source": [
    "import import_ipynb\n",
    "from class_stack import Stack\n",
    "\n",
    "calc = input(\"계산식 입력 : \")\n",
    "s = ''\n",
    "\n",
    "numStk = Stack()\n",
    "opStk = Stack()\n",
    "\n",
    "li = calc.split()\n",
    "\n",
    "\n",
    "for i in range(len(li)//2+1):\n",
    "    numStk.push(li[2*i])\n",
    "    s += li[2*i]\n",
    "    \n",
    "    while numStk.size() >= 2:\n",
    "        if i != len(li)//2:\n",
    "            if li[2*i+1] == '*' or li[2*i+1] == '/':\n",
    "                break\n",
    "       \n",
    "        a = numStk.pop()\n",
    "        b = numStk.pop()\n",
    "        op = opStk.pop()\n",
    "        if op == '+':\n",
    "            c = int(b) + int(a) \n",
    "            numStk.push(c)           \n",
    "        elif op == '-':\n",
    "            c = int(b) - int(a) \n",
    "            numStk.push(c)           \n",
    "        elif op == '*':\n",
    "            c = int(b) * int(a)\n",
    "            numStk.push(c)            \n",
    "        elif op == '/':\n",
    "            c = int(b) / int(a) \n",
    "            numStk.push(c)\n",
    "    \n",
    "    if i != len(li)//2:\n",
    "        if li[2*i+1] == '*' or li[2*i+1] == '/':\n",
    "            opStk.push(li[2*i+1])\n",
    "            s += li[2*i+1]\n",
    "            continue\n",
    "    \n",
    "    if i == len(li)//2:\n",
    "        break\n",
    "\n",
    "    opStk.push(li[2*i+1])\n",
    "    s += li[2*i+1]\n",
    "\n",
    "s += '='\n",
    "n = numStk.pop()\n",
    " \n",
    "print(\"계산식 출력 : \", s, n)\n",
    "\n"
   ]
  },
  {
   "cell_type": "code",
   "execution_count": null,
   "id": "7f73b224",
   "metadata": {},
   "outputs": [],
   "source": []
  }
 ],
 "metadata": {
  "kernelspec": {
   "display_name": "Python 3",
   "language": "python",
   "name": "python3"
  },
  "language_info": {
   "codemirror_mode": {
    "name": "ipython",
    "version": 3
   },
   "file_extension": ".py",
   "mimetype": "text/x-python",
   "name": "python",
   "nbconvert_exporter": "python",
   "pygments_lexer": "ipython3",
   "version": "3.9.4"
  }
 },
 "nbformat": 4,
 "nbformat_minor": 5
}
