{
 "cells": [
  {
   "cell_type": "code",
   "execution_count": 15,
   "id": "beca770c",
   "metadata": {},
   "outputs": [
    {
     "name": "stdout",
     "output_type": "stream",
     "text": [
      "x : 3\n",
      "y :  45.0\n"
     ]
    }
   ],
   "source": [
    "x = float(input(\"x : \"))\n",
    "y = 3*x**2 + 5*x + 3\n",
    "print(\"y : \", y)"
   ]
  },
  {
   "cell_type": "code",
   "execution_count": 16,
   "id": "a4f03a7c",
   "metadata": {},
   "outputs": [
    {
     "name": "stdout",
     "output_type": "stream",
     "text": [
      "반지름을 입력하세요 : 2.3\n",
      "원의 둘레 :  14.443999999999999\n",
      "원의 넓이 :  16.610599999999998\n"
     ]
    }
   ],
   "source": [
    "r = float(input(\"반지름을 입력하세요 : \"))\n",
    "pi = 3.14\n",
    "print(\"원의 둘레 : \", 2*pi*r)\n",
    "print(\"원의 넓이 : \", pi*r*r)"
   ]
  }
 ],
 "metadata": {
  "kernelspec": {
   "display_name": "Python 3",
   "language": "python",
   "name": "python3"
  },
  "language_info": {
   "codemirror_mode": {
    "name": "ipython",
    "version": 3
   },
   "file_extension": ".py",
   "mimetype": "text/x-python",
   "name": "python",
   "nbconvert_exporter": "python",
   "pygments_lexer": "ipython3",
   "version": "3.9.4"
  }
 },
 "nbformat": 4,
 "nbformat_minor": 5
}
