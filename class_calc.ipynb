{
 "cells": [
  {
   "cell_type": "code",
   "execution_count": 12,
   "id": "f64473dd",
   "metadata": {},
   "outputs": [],
   "source": [
    "class Calc:\n",
    "    def sum(self, a, b):\n",
    "        result = a + b\n",
    "        print(\"{0:d} + {1:d} = {2:d}입니다.\".format(a, b, result))\n",
    "    def sub(self, a, b):\n",
    "        result = a - b\n",
    "        print(\"{0:d} - {1:d} = {2:d}입니다.\".format(a, b, result))\n",
    "    def mul(self, a, b):\n",
    "        result = a * b\n",
    "        print(\"{0:d} * {1:d} = {2:d}입니다.\".format(a, b, result))\n",
    "    def div(self, a, b):\n",
    "        result = a / b\n",
    "        print(\"{0:d} / {1:d} = {2:3f}입니다.\".format(a, b, result))"
   ]
  },
  {
   "cell_type": "code",
   "execution_count": null,
   "id": "1ad33358",
   "metadata": {},
   "outputs": [],
   "source": []
  }
 ],
 "metadata": {
  "kernelspec": {
   "display_name": "Python 3",
   "language": "python",
   "name": "python3"
  },
  "language_info": {
   "codemirror_mode": {
    "name": "ipython",
    "version": 3
   },
   "file_extension": ".py",
   "mimetype": "text/x-python",
   "name": "python",
   "nbconvert_exporter": "python",
   "pygments_lexer": "ipython3",
   "version": "3.9.4"
  }
 },
 "nbformat": 4,
 "nbformat_minor": 5
}
