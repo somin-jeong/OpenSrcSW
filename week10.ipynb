{
 "cells": [
  {
   "cell_type": "code",
   "execution_count": 19,
   "id": "0af58291",
   "metadata": {},
   "outputs": [
    {
     "name": "stdout",
     "output_type": "stream",
     "text": [
      "numbers? 123 \n",
      "Max =  123\n"
     ]
    }
   ],
   "source": [
    "num = input(\"numbers? \")\n",
    "li = num.split()\n",
    "max = int(li[0])\n",
    "size = len(li)\n",
    "for i in range(size):\n",
    "    strtoint = int(li[i])\n",
    "    if(strtoint > max):\n",
    "        max = strtoint\n",
    "\n",
    "print(\"Max = \", max)\n",
    "\n"
   ]
  },
  {
   "cell_type": "code",
   "execution_count": 11,
   "id": "87e063df",
   "metadata": {},
   "outputs": [
    {
     "name": "stdout",
     "output_type": "stream",
     "text": [
      "암호화할 문자열 : abc def\n",
      "efg bcd\n",
      "복호화할 문자열 : efg bcd\n",
      "abc def\n"
     ]
    }
   ],
   "source": [
    "s = input(\"암호화할 문자열 : \")\n",
    "li = s.split()\n",
    "li.reverse()\n",
    "\n",
    "for i in range(len(li)):\n",
    "    ch = list(li[i])\n",
    "    for j in range(len(ch)):\n",
    "        code = ord(ch[j])\n",
    "        code = code + 1\n",
    "        ch[j] = chr(code)\n",
    "    li[i] = \"\".join(ch)\n",
    "\n",
    "li = \" \".join(li)\n",
    "print(li)\n",
    "\n",
    "\n",
    "s1 = input(\"복호화할 문자열 : \")\n",
    "\n",
    "ch1 = list(s1)\n",
    "for j in range(len(s1)):\n",
    "    if ch1[j] == ' ':\n",
    "        continue\n",
    "    code = ord(ch1[j])\n",
    "    code = code - 1\n",
    "    ch1[j] = chr(code)\n",
    "s1 = \"\".join(ch1)\n",
    "\n",
    "li1 = s1.split()\n",
    "li1.reverse()\n",
    "li1 = \" \".join(li1)\n",
    "\n",
    "print(li1)\n"
   ]
  },
  {
   "cell_type": "code",
   "execution_count": 19,
   "id": "5729857f",
   "metadata": {},
   "outputs": [
    {
     "name": "stdout",
     "output_type": "stream",
     "text": [
      "10 people's telnum\n",
      "저장할 이름을 입력하세요 : q\n",
      "저장할 번호를 입력하세요 : 1\n",
      "저장할 이름을 입력하세요 : q\n",
      "저장할 번호를 입력하세요 : \n",
      "저장할 이름을 입력하세요 : q\n",
      "저장할 번호를 입력하세요 : 3\n",
      "저장할 이름을 입력하세요 : q\n",
      "저장할 번호를 입력하세요 : 4\n",
      "저장할 이름을 입력하세요 : w\n",
      "저장할 번호를 입력하세요 : 5\n",
      "저장할 이름을 입력하세요 : e\n",
      "저장할 번호를 입력하세요 : 5\n",
      "저장할 이름을 입력하세요 : r\n",
      "저장할 번호를 입력하세요 : 5\n",
      "저장할 이름을 입력하세요 : t\n",
      "저장할 번호를 입력하세요 : 6\n",
      "저장할 이름을 입력하세요 : y\n",
      "저장할 번호를 입력하세요 : 7\n",
      "저장할 이름을 입력하세요 : u\n",
      "저장할 번호를 입력하세요 : 8\n",
      "찾고싶은 번호의 이름을 입력하세요 : q\n",
      "4\n",
      "찾고싶은 이름의 번호를 입력하세요 : 5\n",
      "w\n",
      "e\n",
      "r\n",
      "{'q': '4', 'w': '5', 'e': '5', 'r': '5', 't': '6', 'y': '7', 'u': '8'}\n"
     ]
    }
   ],
   "source": [
    "print(\"10 people's telnum\")\n",
    "dic = {}\n",
    "for i in range(10):\n",
    "    name = input(\"저장할 이름을 입력하세요 : \")\n",
    "    tel = input(\"저장할 번호를 입력하세요 : \")\n",
    "    dic[name] = tel\n",
    "\n",
    "n = input(\"찾고싶은 번호의 이름을 입력하세요 : \")\n",
    "print(dic[n])\n",
    "t = input(\"찾고싶은 이름의 번호를 입력하세요 : \")\n",
    "for key, value in dic.items():\n",
    "    if value == t:\n",
    "        print(key)\n"
   ]
  },
  {
   "cell_type": "code",
   "execution_count": null,
   "id": "e7bb3182",
   "metadata": {},
   "outputs": [],
   "source": []
  },
  {
   "cell_type": "code",
   "execution_count": null,
   "id": "bb528e4f",
   "metadata": {},
   "outputs": [],
   "source": []
  }
 ],
 "metadata": {
  "kernelspec": {
   "display_name": "Python 3",
   "language": "python",
   "name": "python3"
  },
  "language_info": {
   "codemirror_mode": {
    "name": "ipython",
    "version": 3
   },
   "file_extension": ".py",
   "mimetype": "text/x-python",
   "name": "python",
   "nbconvert_exporter": "python",
   "pygments_lexer": "ipython3",
   "version": "3.9.4"
  }
 },
 "nbformat": 4,
 "nbformat_minor": 5
}
